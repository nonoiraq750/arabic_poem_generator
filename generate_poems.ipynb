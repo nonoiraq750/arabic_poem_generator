{
 "cells": [
  {
   "cell_type": "code",
   "execution_count": 1,
   "metadata": {},
   "outputs": [],
   "source": [
    "import rhymes\n",
    "import markovify\n",
    "from tqdm import tqdm"
   ]
  },
  {
   "cell_type": "code",
   "execution_count": 2,
   "metadata": {},
   "outputs": [],
   "source": [
    "def markov(text_file):\n",
    "    with open(text_file, 'r', encoding='utf-8') as f:\n",
    "        text = f.read()\n",
    "    text_model = markovify.NewlineText(text)\n",
    "    return text_model"
   ]
  },
  {
   "cell_type": "code",
   "execution_count": 3,
   "metadata": {},
   "outputs": [],
   "source": [
    "def generate_poem_single_rhyme(poet_name, rhyme, iterations=3000, use_tqdm=False):\n",
    "    n_of_rhyme_letters = len(rhyme)\n",
    "    input_file = '.\\input\\{}.txt'.format(poet_name)\n",
    "    text_model = markov(input_file)\n",
    "    rhymes_list = rhymes.rhymes_with_last_n_chars(rhyme, n_of_rhyme_letters)\n",
    "    bayts = set()\n",
    "    used_rhymes = set()\n",
    "    \n",
    "    poem = \"\"\n",
    "    \n",
    "    if use_tqdm == True:\n",
    "        if hasattr(tqdm, '_instances'): tqdm._instances.clear()\n",
    "        it_range = tqdm(range(iterations))\n",
    "    else:\n",
    "        it_range = range(iterations)\n",
    "        \n",
    "    for i in it_range:\n",
    "        bayt = text_model.make_short_sentence(280, tries=100)\n",
    "        last_word = bayt.split()[-1]\n",
    "        if (last_word in rhymes_list) and (last_word not in used_rhymes) and (bayt not in bayts):\n",
    "            bayts.add(bayt)\n",
    "            used_rhymes.add(last_word)\n",
    "            poem += \"{}\\n\".format(bayt)\n",
    "            if not use_tqdm:\n",
    "                print(bayt)\n",
    "    return poem\n",
    "\n",
    "def generate_poem_2_rhymes(poet_name, rhyme_1, rhyme_2, iterations=3000, use_tqdm=False):\n",
    "    n_of_rhyme_1_letters = len(rhyme_1)\n",
    "    n_of_rhyme_2_letters = len(rhyme_2)\n",
    "    \n",
    "    input_file = '.\\input\\{}.txt'.format(poet_name)\n",
    "    text_model = markov(input_file)\n",
    "    \n",
    "    rhymes_1_list = rhymes.rhymes_with_last_n_chars(rhyme_1, n_of_rhyme_1_letters)\n",
    "    rhymes_2_list = rhymes.rhymes_with_last_n_chars(rhyme_2, n_of_rhyme_2_letters)\n",
    "    \n",
    "    bayts_1 = set()\n",
    "    bayts_2 = set()\n",
    "    \n",
    "    used_rhymes_1 = set()\n",
    "    used_rhymes_2 = set()\n",
    "    \n",
    "    poem = \"\"\n",
    "    \n",
    "    if use_tqdm == True:\n",
    "        if hasattr(tqdm, '_instances'): tqdm._instances.clear()\n",
    "        it_range = tqdm(range(iterations))\n",
    "    else:\n",
    "        it_range = range(iterations)\n",
    "        \n",
    "    for i in it_range:\n",
    "        bayt = text_model.make_short_sentence(280, tries=100)\n",
    "        last_word = bayt.split()[-1]\n",
    "        \n",
    "        if (last_word in rhymes_1_list) and (last_word not in used_rhymes_1) and (bayt not in bayts_1):\n",
    "            bayts_1.add(bayt)\n",
    "            used_rhymes_1.add(last_word)\n",
    "\n",
    "        if (last_word in rhymes_2_list) and (last_word not in used_rhymes_2) and (bayt not in bayts_2):\n",
    "            bayts_2.add(bayt)\n",
    "            used_rhymes_2.add(last_word)                \n",
    "    \n",
    "    len_of_poem = min(len(bayts_1), len(bayts_2))\n",
    "    for i in range(len_of_poem):\n",
    "        poem += \"{}\\n{}\\n\".format(list(bayts_1)[i], list(bayts_2)[i])\n",
    "        \n",
    "    return poem"
   ]
  },
  {
   "cell_type": "code",
   "execution_count": 4,
   "metadata": {},
   "outputs": [
    {
     "name": "stdout",
     "output_type": "stream",
     "text": [
      "هجان من الدهنا تفرّعت الحبالا\n",
      "ومعتمد جعلت له خبالا\n",
      "تركت لصوص المصر من بين ثنيّته خلالا\n",
      "صه لم يكن عدة مطالا\n",
      "من الجنوب إذا ما قيل قالا\n",
      "إذا استيقظت كحلا وإن لم تكن تدع الحجالا\n",
      "لتجعل صدعا في فؤادك واختبالا\n",
      "هي الشمس إشراقا إذا ما الأمر ذو الشبهات عالا\n",
      "ونأمل سيب غيثك يا بلال سنا طوالا\n",
      "ومعتمد جعلت له نكالا\n",
      "وحلّت سواد القلب فاقتتل اقتتالا\n"
     ]
    }
   ],
   "source": [
    "x = generate_poem_single_rhyme(\n",
    "                            'ذو الرمة',\n",
    "                            'را',\n",
    "                            iterations=3000,\n",
    "                            use_tqdm=False\n",
    "                            )"
   ]
  },
  {
   "cell_type": "code",
   "execution_count": 5,
   "metadata": {},
   "outputs": [
    {
     "name": "stdout",
     "output_type": "stream",
     "text": [
      "إنّي حلفت بربّ موسى جاهدا\n",
      "وأقفر إلّا أن أهيم وأكمدا\n",
      "حتّى إذا هو أوعدا\n",
      "مدمّية حرّا من الوجه إقبالا ألحّ وأجهدا\n",
      "وعمرو بن بكر وأهودا\n",
      "إذا كاد ضوء الصبح سهما خفيددا\n",
      "ولكنّما هاج الّذي كان أبعدا\n",
      "قد كان في رأسه صيدا\n",
      "وإذ هي تريك الوجه من خلل الستور إذا بدا\n",
      "وتأوي لابن زنباع إذا ما هرولت حردا\n"
     ]
    }
   ],
   "source": [
    "x = generate_poem_single_rhyme(\n",
    "                            'الأخطل',\n",
    "                            'دا',\n",
    "                            iterations=3000,\n",
    "                            use_tqdm=False\n",
    "                            )"
   ]
  },
  {
   "cell_type": "code",
   "execution_count": 6,
   "metadata": {},
   "outputs": [
    {
     "name": "stdout",
     "output_type": "stream",
     "text": [
      "أقولك ما بين آلاف الهدايا\n",
      "كنا ذهبنا آخر الليل مثل الشظايا\n",
      "يترك فرحة في كل الزوايا\n",
      "مايا تكرر أنها ما ضاجعت أحدا سوايا\n"
     ]
    }
   ],
   "source": [
    "x = generate_poem_single_rhyme(\n",
    "                            'نزار قباني',\n",
    "                            'ايا',\n",
    "                            iterations=3000,\n",
    "                            use_tqdm=False\n",
    "                            )"
   ]
  }
 ],
 "metadata": {
  "kernelspec": {
   "display_name": "Python 3",
   "language": "python",
   "name": "python3"
  },
  "language_info": {
   "codemirror_mode": {
    "name": "ipython",
    "version": 3
   },
   "file_extension": ".py",
   "mimetype": "text/x-python",
   "name": "python",
   "nbconvert_exporter": "python",
   "pygments_lexer": "ipython3",
   "version": "3.6.10"
  }
 },
 "nbformat": 4,
 "nbformat_minor": 4
}
